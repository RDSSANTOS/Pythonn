{
 "cells": [
  {
   "cell_type": "markdown",
   "metadata": {},
   "source": [
    "## Robô com os modelos de predição utilizados para os alunos abaixo:\n",
    " **📚 MBA - Business Analytics & Big Data - T9 - FGV Paulista**\n",
    " \n",
    " ↪Bruno Pioli\n",
    " \n",
    " ↪Guilherme Alves\n",
    " \n",
    " ↪João Pedro Dannemann\n",
    " \n",
    " ↪Ricardo Santos\n"
   ]
  },
  {
   "cell_type": "markdown",
   "metadata": {},
   "source": [
    "# MODELO 1> ANÁLISE LSTM BIDIRECIONAL SIMPLIFICADA (1 VARIÁVEL, 1 VALOR)"
   ]
  },
  {
   "cell_type": "markdown",
   "metadata": {},
   "source": [
    "No primeiro modelo, usaremos a mesma lógica do modelo do professor para checar os preços a cada minuto.\n",
    "- Se a expectativa for de subida (+0,02%) e possuirmos tem dinheiro em caixa, o modelo irá comprar o equivalente a USD 500\n",
    "- Se a expectativa for de queda (-0,02%) e possuirmos moeda em caixa, o modelo irá vender o equivalente a USD 500"
   ]
  },
  {
   "cell_type": "code",
   "execution_count": null,
   "metadata": {},
   "outputs": [],
   "source": [
    "import pickle\n",
    "import time\n",
    "from robo_BGJR import LSTMunivar,split_sequence,api_get, api_post, get_result, compute_quantity, how_much_i_have\n",
    "from robo_BGJR import LSTMvetor, split_sequenceVet\n",
    "import numpy as np\n",
    "import pandas as pd\n",
    "import datetime\n",
    "import warnings\n",
    "warnings.filterwarnings('ignore')\n",
    "import math"
   ]
  },
  {
   "cell_type": "code",
   "execution_count": null,
   "metadata": {},
   "outputs": [],
   "source": [
    "# Carrega o modelo criado no notebook anterior\n",
    "token = '039ddfe6fc4ef0f'\n",
    "ticker=['BTCUSDT','DOGEUSDT','ETHUSDT']\n",
    "valor_compra_venda = 500\n",
    "x=1 # a variável x será usada para contar a quantidade de rodadas feitas"
   ]
  },
  {
   "cell_type": "code",
   "execution_count": null,
   "metadata": {},
   "outputs": [],
   "source": [
    "# Loop que checa o preço a cada minuto e toma as decisões de compra e venda.\n",
    "while True:\n",
    "# Loop Interno 1: Para obter a tabela das ultimas 500 cotações de cada moeda e:\n",
    "# Cria 2 Arrays: 1. Ultimo Valor de cada moeda 2: Próximo valor estimado\n",
    "        \n",
    "    proxvalor=[]\n",
    "    ultimovalor=[]\n",
    "    tendencia=[]\n",
    "    qtdade=[]\n",
    "    for i in range(3):\n",
    "        df = api_post('cripto_quotation', {'token': token, 'ticker': ticker[i]})\n",
    "        prov=float(LSTMunivar(df['close'],3)) \n",
    "        proxvalor.append(prov)\n",
    "        prov2 = df.iloc[[np.argmax(df['datetime'])]]['close']\n",
    "        ultimovalor.append(float(prov2))    \n",
    "\n",
    "#Loop interno 2:\n",
    "    #utilizando a mesma lógica apresentada pelo robô do professor, o loop define a quantidade de cripto à comprar de cada uma das 3 moedas:\n",
    "    \n",
    "    for i in range(3):\n",
    "        prov = compute_quantity(coin_value = ultimovalor[i], invest_value = valor_compra_venda, significant_digits = 4)\n",
    "        qtdade.append(prov)    \n",
    "    #a segunda parte deste loop é usada para definir a tendência de cada moeda:\n",
    "        #Ela é definida como sendo o % de variação da previsão (proxvalor) para o ultimo fechamento (ultimovalor):\n",
    "        prov =(float(proxvalor[i])-ultimovalor[i])/ultimovalor[i]\n",
    "        tendencia.append(prov)\n",
    "    # Print do datetime atual\n",
    "    print('-------------------')\n",
    "    print('Rodada nº',x)\n",
    "    now = pd.to_datetime('now')\n",
    "    print(f'{now}')\n",
    "#loop interno 3: verifica a regra de tendência e realiza a operação de compra/venda para cada uma das 3 moedas:\n",
    "    #Caso as condições de compra e venda não forem atingidas, o processo não realiza uma transação\n",
    "    for i in range(3):\n",
    "        if tendencia[i] > 0.0002:\n",
    "            # Modelo detectou uma tendência positiva da moeda i\n",
    "            print(str(ticker[i]),\": Está com tendência positiva de \",{str(tendencia[i])})\n",
    "        \n",
    "            # Verifica quanto dinheiro tem em caixa\n",
    "            qtdade_money = how_much_i_have('money', token)\n",
    "        \n",
    "            if qtdade_money>0:\n",
    "                # Se tem dinheiro, tenta comprar o equivalente à quantidade ou o máximo que o dinheiro permitir\n",
    "                max_qtdade = compute_quantity(coin_value = ultimovalor[i], invest_value = qtdade_money, significant_digits = 4)\n",
    "                qtdadeuso = min(qtdade[i], max_qtdade)\n",
    "            \n",
    "            # Realizando a compra\n",
    "            print(f'Comprando {str(qtdadeuso)} {ticker[i]}')\n",
    "            api_post('buy', payload = {'token': token, 'ticker': ticker[i], 'quantity': qtdadeuso})\n",
    "        \n",
    "        elif tendencia[i] < -0.0002:\n",
    "            # Modelo detectou uma tendência negativa da moeda i\n",
    "            print(str(ticker[i]),\": Está com tendência negativa de \",{str(tendencia[i])})\n",
    "        \n",
    "            # Verifica quanto tem da moeda em caixa\n",
    "            qtdade_coin = how_much_i_have(ticker[i], token)\n",
    "        \n",
    "            if qtdade_coin>0:\n",
    "                # Se tenho a moeda, vou vender!\n",
    "                qtdadeuso = min(qtdade_coin, qtdade[i])\n",
    "                print(f'Vendendo {str(qtdadeuso)} {ticker[i]}')\n",
    "                api_post('sell', payload = {'token': token, 'ticker': ticker[i], 'quantity':qtdadeuso})\n",
    "        else:\n",
    "            # Não faz nenhuma ação, espera o próximo loop\n",
    "            print(str(ticker[i]),\": Está com tendência neutra de \",{str(tendencia[i])},\". Nenhuma ação realizada\")\n",
    "    x=x+1\n",
    "    # Print do status após cada iteração\n",
    "    print(api_post('status', payload = {'token': token}))\n",
    "    time.sleep(60)"
   ]
  },
  {
   "cell_type": "code",
   "execution_count": null,
   "metadata": {},
   "outputs": [],
   "source": [
    "# Para não ser impactado por variações da Cripto (positivas ou negativas) quando o robô não está ativado, o código abaixo vende toda a moeda disponível\n",
    "for i in range(3):\n",
    "    qtdade_coin = how_much_i_have(ticker[i], token)\n",
    "    print(f'Vendendo {str(qtdade_coin)} {ticker[i]}')\n",
    "    api_post('sell', payload = {'token': token, 'ticker': ticker[i], 'quantity':qtdade_coin})\n",
    "    print(api_post('status', payload = {'token': token}))"
   ]
  },
  {
   "cell_type": "code",
   "execution_count": null,
   "metadata": {},
   "outputs": [],
   "source": []
  }
 ],
 "metadata": {
  "kernelspec": {
   "display_name": "Python 3",
   "language": "python",
   "name": "python3"
  },
  "language_info": {
   "codemirror_mode": {
    "name": "ipython",
    "version": 3
   },
   "file_extension": ".py",
   "mimetype": "text/x-python",
   "name": "python",
   "nbconvert_exporter": "python",
   "pygments_lexer": "ipython3",
   "version": "3.8.8"
  }
 },
 "nbformat": 4,
 "nbformat_minor": 4
}
