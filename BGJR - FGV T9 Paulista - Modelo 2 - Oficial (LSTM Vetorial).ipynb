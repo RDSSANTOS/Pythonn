{
 "cells": [
  {
   "cell_type": "markdown",
   "metadata": {},
   "source": [
    "## Robô com os modelos de predição utilizados para os alunos abaixo:\n",
    " **📚 MBA - Business Analytics & Big Data - T9 - FGV Paulista**\n",
    " \n",
    " ↪Bruno Pioli\n",
    " \n",
    " ↪Guilherme Alves\n",
    " \n",
    " ↪João Pedro Dannemann\n",
    " \n",
    " ↪Ricardo Santos"
   ]
  },
  {
   "cell_type": "markdown",
   "metadata": {},
   "source": [
    "# MODELO 2> ANÁLISE LSTM VETORIAL: 2 PRÓXIMOS VALORES PREVISTOS"
   ]
  },
  {
   "cell_type": "markdown",
   "metadata": {},
   "source": [
    "Como explicado no arquivo robo_BGJP.py, este modelo prevê os dois próximos valores de cada moeda e:\n",
    "    \n",
    "- Se a expectativa for de subida (maior que +0,05%)  **OU** ambas as previsões aumentaram de valor:\n",
    "    Se possuirmos dinheiro em caixa, o modelo compra o equivalente proporcional à subida, limitado entre USD 10 e USD 1000\n",
    "- Se a expectativa for de queda (menor que -0,05%) **OU** ambas as previsões reduziram de valor:\n",
    "    Se possuirmos moeda em caixa, o modelo vende o equivalente proporcional à descida, limitado entre USD 10 e USD 1000\n"
   ]
  },
  {
   "cell_type": "code",
   "execution_count": null,
   "metadata": {},
   "outputs": [],
   "source": [
    "#Bibliotecas Necessárias:\n",
    "from numpy import array\n",
    "import numpy as np\n",
    "import pandas as pd\n",
    "import warnings\n",
    "warnings.filterwarnings('ignore')\n",
    "import statsmodels.api as sm\n",
    "import time\n",
    "from robo_BGJR import api_get, api_post, get_result, compute_quantity, how_much_i_have, LSTMvetor, split_sequenceVet"
   ]
  },
  {
   "cell_type": "markdown",
   "metadata": {},
   "source": [
    "### Modelo 2: LSTM com saída Vetorial"
   ]
  },
  {
   "cell_type": "code",
   "execution_count": null,
   "metadata": {},
   "outputs": [],
   "source": [
    "# Carrega o modelo criado no notebook anterior\n",
    "token = '039ddfe6fc4ef0f'\n",
    "ticker=['BTCUSDT','DOGEUSDT','ETHUSDT']\n",
    "valor_compra_venda = 500\n",
    "x=1 # a variável x será usada para contar a quantidade de rodadas feitas"
   ]
  },
  {
   "cell_type": "code",
   "execution_count": null,
   "metadata": {},
   "outputs": [],
   "source": [
    "while True:\n",
    "# Loop Interno 1: Obter a tabela das ultimas 500 cotações de cada moeda e:\n",
    "# Cria 2 Arrays: 1. Ultimo Valor de cada moeda 2: Próximo valor estimado\n",
    "    proxvalor=[]\n",
    "    ultimovalor=[]\n",
    "    tendencia=[]\n",
    "    qtdade=[]\n",
    "    previsoes=pd.DataFrame()\n",
    "    qteprev = 2 \n",
    "    for i in range(3):\n",
    "        df = api_post('cripto_quotation', {'token': token, 'ticker': ticker[i]})\n",
    "        prov=LSTMvetor(df['close'],3,qteprev)\n",
    "        proxvalor=pd.DataFrame(prov)\n",
    "        previsoes=previsoes.append(proxvalor)\n",
    "        proxvalor=[]\n",
    "        prov2 = df.iloc[[np.argmax(df['datetime'])]]['close']\n",
    "        ultimovalor.append(float(prov2))\n",
    "    #Criam um DataFrame \"previsoes\" com os valores previstos dos próximos 2 minutos das moedas e, a partir disso, a tendência percentual e o sentido da operação\n",
    "    #O sentido da operação é pode ser classificado como positivo (quando as duas previsões indicam o mesmo sentido, de queda ou subida.)\n",
    "    #ou negativo (quando as previsões indicam uma queda e uma subida)\n",
    "    previsoes['Ultimo']=ultimovalor\n",
    "    previsoes['Dif1']=previsoes[previsoes.columns[0]]-previsoes['Ultimo']\n",
    "    previsoes['Dif2']=previsoes[previsoes.columns[1]]-previsoes[previsoes.columns[0]]\n",
    "    previsoes['sentido']=previsoes['Dif1']*previsoes['Dif2']\n",
    "    previsoes['tendencia']=(previsoes[previsoes.columns[1]]-previsoes['Ultimo'])/previsoes['Ultimo']\n",
    "    previsoes=previsoes.reset_index()\n",
    "    #esta parte do loop irá definir qual o montante que será negociado (caso os indicadores de tendencia ou sentido sejam atingidos\n",
    "    #O montante negociado é proporcional à tendência identificada, podendo variar entre 10 e 1000 dolares\n",
    "    for i in range(3):\n",
    "        prov = compute_quantity(coin_value = ultimovalor[i], invest_value = min(1000,max(10,abs(previsoes['tendencia'][i]/0.002)*1000)), significant_digits = 4)\n",
    "        qtdade.append(prov)\n",
    "    # Print do datetime atual\n",
    "    print('-------------------')\n",
    "    print('Rodada nº',x)\n",
    "    now = pd.to_datetime('now')\n",
    "    print(f'{now}')\n",
    "    #loop interno 3: verifica a regra de tendência e realiza a operação de compra/venda para cada uma das 3 moedas:\n",
    "    #Caso as condições de compra e venda não forem atingidas, o processo não realiza uma transação\n",
    "    for i in range(3):\n",
    "        if previsoes['tendencia'][i] > 0.0005 or (previsoes['sentido'][i]>0 and previsoes['tendencia'][i] > 0):\n",
    "            # Modelo detectou uma tendência positiva da moeda i\n",
    "            if previsoes['sentido'][i]>0:\n",
    "                print(str(ticker[i]),\": Está com tendência positiva de \",previsoes['tendencia'][i]*100, \"% a tendencia se manteve para as próximas \",qteprev,\"previsões.\")\n",
    "            else:\n",
    "                print(str(ticker[i]),\": Está com tendência positiva de \",previsoes['tendencia'][i]*100, \"% o sentido das previsões não foram uniformes porém a tendência se manteve superior a 0,05%\")\n",
    "\n",
    "            # Verifica quanto dinheiro tem em caixa\n",
    "            qtdade_money = how_much_i_have('money', token)\n",
    "        \n",
    "            if qtdade_money>0:\n",
    "                # Se tem dinheiro, tenta comprar o equivalente à quantidade ou o máximo que o dinheiro permitir\n",
    "                max_qtdade = compute_quantity(coin_value = ultimovalor[i], invest_value = qtdade_money, significant_digits = 4)\n",
    "                qtdadeuso = min(qtdade[i], max_qtdade)\n",
    "            \n",
    "            # Realizando a compra\n",
    "            print(f'Comprando {str(qtdadeuso)} {ticker[i]}')\n",
    "            api_post('buy', payload = {'token': token, 'ticker': ticker[i], 'quantity': qtdadeuso})\n",
    "        \n",
    "        elif previsoes['tendencia'][i] < -0.0005 or (previsoes['sentido'][i]>0 and previsoes['tendencia'][i] < 0):\n",
    "            # Modelo detectou uma tendência negativa da moeda i\n",
    "            if previsoes['sentido'][i]>0:\n",
    "                print(str(ticker[i]),\": Está com tendência negativa de \",previsoes['tendencia'][i]*100, \"% a tendencia se manteve para as próximas \",qteprev,\"previsões.\")\n",
    "            else:\n",
    "                print(str(ticker[i]),\": Está com tendência negativa de \",previsoes['tendencia'][i]*100, \"% o sentido das previsões não foram uniformes porém a tendência se manteve superior a 0,05%\")\n",
    "            # Verifica quanto tem da moeda em caixa\n",
    "            qtdade_coin = how_much_i_have(ticker[i], token)\n",
    "        \n",
    "            if qtdade_coin>0:\n",
    "                # Se tenho a moeda, vou vender!\n",
    "                qtdadeuso = min(qtdade_coin, qtdade[i])\n",
    "                print(f'Vendendo {str(qtdadeuso)} {ticker[i]}')\n",
    "                api_post('sell', payload = {'token': token, 'ticker': ticker[i], 'quantity':qtdadeuso})\n",
    "        else:\n",
    "            # Não faz nenhuma ação, espera próximo loop\n",
    "            print(str(ticker[i]),\": Está sem sentido definido e com tendência neutra de \",previsoes['tendencia'][i]*100,\"%. Nenhuma ação realizada\")\n",
    "    x=x+1\n",
    "    # Print do status após cada iteração\n",
    "    print(api_post('status', payload = {'token': token}))\n",
    "    previsoes=[]\n",
    "    time.sleep(60)"
   ]
  },
  {
   "cell_type": "code",
   "execution_count": null,
   "metadata": {},
   "outputs": [],
   "source": [
    "# Para  não ser impactado por variações da Cripto (positivas ou negativas) enquanto o robô não estiver ativado, o código abaixo vende toda a moeda disponível\n",
    "for i in range(3):\n",
    "    qtdade_coin = how_much_i_have(ticker[i], token)\n",
    "    print(f'Vendendo {str(qtdade_coin)} {ticker[i]}')\n",
    "    api_post('sell', payload = {'token': token, 'ticker': ticker[i], 'quantity':qtdade_coin})\n",
    "    print(api_post('status', payload = {'token': token}))"
   ]
  },
  {
   "cell_type": "code",
   "execution_count": null,
   "metadata": {},
   "outputs": [],
   "source": []
  }
 ],
 "metadata": {
  "kernelspec": {
   "display_name": "Python 3",
   "language": "python",
   "name": "python3"
  },
  "language_info": {
   "codemirror_mode": {
    "name": "ipython",
    "version": 3
   },
   "file_extension": ".py",
   "mimetype": "text/x-python",
   "name": "python",
   "nbconvert_exporter": "python",
   "pygments_lexer": "ipython3",
   "version": "3.8.8"
  }
 },
 "nbformat": 4,
 "nbformat_minor": 4
}
